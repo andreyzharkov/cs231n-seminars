{
 "cells": [
  {
   "cell_type": "markdown",
   "metadata": {},
   "source": [
    "# Research 101\n",
    "The goal of this homework is to give you an experience of coding in pytorch and doing scientific research.\n",
    "\n",
    "In this homework you are going to do tiny research for image classification problem.\n",
    "You will\n",
    "- (re)implement one of the recently developed layers\n",
    "- create reasonable baseline\n",
    "- modify your baseline net with your fancy layer to improve speed/accuracy\n",
    "- analyze the results"
   ]
  },
  {
   "cell_type": "markdown",
   "metadata": {},
   "source": [
    "## Important notes before you start\n",
    "- Your results must be entirely reproducible (if we re-run the notebook the output numbers should be exactly the same)\n",
    "- Some of the proposed layers are already implemented and open-sourced, please try to implement them yourself. At a certain point of correlation you may be penalized for plagiarism (eigther with your peers or with open-source projects)\n",
    "- Your baseline should not be undertrained or overfitted (penalties apply)\n",
    "- Your proposed network should be better compared to baseline in some sense\n",
    "- Please leave your comments when it is appropriate (at the very least in conclusion)"
   ]
  },
  {
   "cell_type": "markdown",
   "metadata": {},
   "source": [
    "## (re) implement fancy layer\n",
    "Take a look into these research papers. You should choose **one** of them and implement the proposed layer.\n",
    "1. [Octave convolution](https://arxiv.org/abs/1904.05049)\n",
    "2. [Local self-attention](https://arxiv.org/pdf/1906.05909.pdf)\n",
    "3. [Box convolution](https://papers.nips.cc/paper/7859-deep-neural-networks-with-box-convolutions)\n",
    "4. You may choose another paper interesting to you, in that case please consult with us before start working\n",
    "5. You may propose your own layer (we highly recommend to think about this at least for some time, but you should not be too concentrated). In case of success, this last choice will be awarded with additional points, but again we **higly recommend** to consult with us before start your work.\n",
    "\n",
    "Fun exercise: Try to detect a bachelor thesis of your peers in the above list"
   ]
  },
  {
   "cell_type": "code",
   "execution_count": 1,
   "metadata": {},
   "outputs": [],
   "source": [
    "# TODO: implement your layer as nn.Module"
   ]
  },
  {
   "cell_type": "markdown",
   "metadata": {},
   "source": [
    "## Set up your experiment\n",
    "You should choose:\n",
    "- the dataset (take a look into torchvision.datasets). ensure you are solving classification problem. the dataset should not be MNIST (at least take FashionMnist)\n",
    "- criterion, optimizer, learning rate (everything of this should be fixed for different model comparation, but choose wisely, e.g. training classification with l1 loss is definetly a bad idea)\n",
    "- target metric (accuracy or f-score)\n",
    "- augmentations (you may ignore them)"
   ]
  },
  {
   "cell_type": "code",
   "execution_count": 2,
   "metadata": {},
   "outputs": [],
   "source": [
    "# TODO"
   ]
  },
  {
   "cell_type": "markdown",
   "metadata": {},
   "source": [
    "## Create baseline\n",
    "Choose baseline network of reasonable size & training time. You may take some ResNet or DenseNet for example.\n",
    "\n",
    "Train baseline network. **Ensure you have not undertrain/overfit your baseline** (You will be penalized if it will be detected)"
   ]
  },
  {
   "cell_type": "code",
   "execution_count": 3,
   "metadata": {},
   "outputs": [],
   "source": [
    "# create and train baseline, compute target metrics on test set"
   ]
  },
  {
   "cell_type": "markdown",
   "metadata": {},
   "source": [
    "## Improve baseline network with your layer\n",
    "Modify baseline architecture (your modification should be comparable or better to baseline in terms of metrics, speed, number of parameters), train your proposed network and compare it to baseline.\n",
    "\n",
    "Compare the results with baseline (and maybe different versions of your proposed network) in terms of:\n",
    "- quality metrics\n",
    "- inference speed\n",
    "- number of parameters\n",
    "- (optional) FLOPS\n",
    "- (optional) training time until convergence"
   ]
  },
  {
   "cell_type": "code",
   "execution_count": 4,
   "metadata": {},
   "outputs": [],
   "source": [
    "# TODO"
   ]
  },
  {
   "cell_type": "markdown",
   "metadata": {},
   "source": [
    "## Results\n",
    "Visualize your results somehow, as a simplest case you may provide the table with comparation of baseline (and maybe different versions of your proposed network)"
   ]
  },
  {
   "cell_type": "code",
   "execution_count": null,
   "metadata": {},
   "outputs": [],
   "source": [
    "# TODO results"
   ]
  },
  {
   "cell_type": "markdown",
   "metadata": {},
   "source": [
    "## Conclusions\n",
    "Summarize the results briefly. What are the main benefits of your approach?"
   ]
  },
  {
   "cell_type": "markdown",
   "metadata": {},
   "source": [
    "TODO"
   ]
  }
 ],
 "metadata": {
  "kernelspec": {
   "display_name": "Python 3",
   "language": "python",
   "name": "python3"
  },
  "language_info": {
   "codemirror_mode": {
    "name": "ipython",
    "version": 3
   },
   "file_extension": ".py",
   "mimetype": "text/x-python",
   "name": "python",
   "nbconvert_exporter": "python",
   "pygments_lexer": "ipython3",
   "version": "3.6.9"
  }
 },
 "nbformat": 4,
 "nbformat_minor": 2
}
