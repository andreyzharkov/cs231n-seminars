{
 "cells": [
  {
   "cell_type": "markdown",
   "metadata": {},
   "source": [
    "# Training frameworks\n",
    "How does your typical Pytorch project look like?\n",
    "1. dataset creation, reading, dataset class\n",
    "2. create model\n",
    "3. create training loop\n",
    "4. add metrics and logging\n",
    "5. ...\n",
    "\n",
    "How does your next Pytorch project look like?\n",
    "1. dataset creation, reading, dataset class\n",
    "2. create model\n",
    "3. *create training loop*\n",
    "4. *add metrics and logging*\n",
    "5. ...\n",
    "\n",
    "And the next one...\n",
    "1. dataset creation, reading, dataset class\n",
    "2. create model\n",
    "3. **create training loop**\n",
    "4. **add metrics, logging, visualization**\n",
    "5. ...\n",
    "\n",
    "(3) and (4) may be generalized well between projects and there are many libraries atop of pytorch which do exactly that (and many other things).\n",
    "\n",
    "Selected (subjectively) popular solutions are\n",
    "- [fastai](https://github.com/fastai/fastai)\n",
    "- [pytorch lightning](https://github.com/williamFalcon/pytorch-lightning)\n",
    "- [catalyst](https://github.com/catalyst-team/catalyst)"
   ]
  },
  {
   "cell_type": "markdown",
   "metadata": {},
   "source": [
    "| Framework\\Feature | Flexibility | Amount of (your) code | How it feels like (subjective) | When to use(subjective) |\n",
    "|-------------------|---------------|-----------------------|-----------------------------------------------------------------------------------------------------------------------------------------------|-----------------------------------------------------------------------------------------------------------------------------|\n",
    "| **fastai** | low | **close to none** | with these 3 lines of code we have  beaten last year SOTA | hackathons, 1day projects |\n",
    "| **catalyst** | moderate-high | low | more configs to the god of configs! | to compare lots of versions of your model/training especially for established tasks  such as classification, detection, etc |\n",
    "| **pytorch lightning** | high | moderate |  | for more complicated tasks, when you  have several models (GANs, NAS) |\n",
    "| **your own solution** | high | high | 1)hmm, I didn't think about that feature, it's time to reproject everything... 2)oh, what a fun bug! now I have to rerun all of my experiments... | when you feel enough confidence and have a lot of time |"
   ]
  },
  {
   "cell_type": "code",
   "execution_count": null,
   "metadata": {},
   "outputs": [],
   "source": []
  },
  {
   "cell_type": "markdown",
   "metadata": {},
   "source": [
    "# Catalyst\n",
    "The rest of this notebook will be about catalyst.\n",
    "\n",
    "Baseline training is very simple\n",
    "\n",
    "```python\n",
    "import torch\n",
    "from catalyst.dl import SupervisedRunner\n",
    "\n",
    "# experiment setup\n",
    "logdir = \"./logdir\"\n",
    "num_epochs = 42\n",
    "\n",
    "# data\n",
    "loaders = {\"train\": ..., \"valid\": ...}\n",
    "\n",
    "# model, criterion, optimizer\n",
    "model = Net()\n",
    "criterion = torch.nn.CrossEntropyLoss()\n",
    "optimizer = torch.optim.Adam(model.parameters())\n",
    "scheduler = torch.optim.lr_scheduler.ReduceLROnPlateau(optimizer)\n",
    "\n",
    "# model runner\n",
    "runner = SupervisedRunner()\n",
    "\n",
    "# model training\n",
    "runner.train(\n",
    "    model=model,\n",
    "    criterion=criterion,\n",
    "    optimizer=optimizer,\n",
    "    scheduler=scheduler,\n",
    "    loaders=loaders,\n",
    "    logdir=logdir,\n",
    "    num_epochs=num_epochs,\n",
    "    verbose=True,\n",
    ")\n",
    "```"
   ]
  },
  {
   "cell_type": "code",
   "execution_count": null,
   "metadata": {},
   "outputs": [],
   "source": []
  }
 ],
 "metadata": {
  "kernelspec": {
   "display_name": "Python 3",
   "language": "python",
   "name": "python3"
  },
  "language_info": {
   "codemirror_mode": {
    "name": "ipython",
    "version": 3
   },
   "file_extension": ".py",
   "mimetype": "text/x-python",
   "name": "python",
   "nbconvert_exporter": "python",
   "pygments_lexer": "ipython3",
   "version": "3.6.9"
  }
 },
 "nbformat": 4,
 "nbformat_minor": 2
}
