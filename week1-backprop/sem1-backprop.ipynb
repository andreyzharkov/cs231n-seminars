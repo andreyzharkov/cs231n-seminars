{
 "cells": [
  {
   "cell_type": "markdown",
   "metadata": {},
   "source": [
    "# Plan for this seminar\n",
    "In this seminar you will\n",
    "- learn how backpropagation really works\n",
    "- implement backward pass for main layers (Linear, ReLU, Sigmoid, Softmax)\n",
    "- implement backward pass for most common criteria (MSE, NLL, Hinge)\n",
    "- implement batch stochastic gradient descent\n",
    "- train your tiny neural network on MNIST\n",
    "\n",
    "Exercises\n",
    "- derive analytically (on paper) gradients w.r.t. all inputs and parameters for small network (Linear -> ReLU -> Linear -> Softmax) with NLL loss\n",
    "- why sigmoid/tanh activations may be bad for deep networks?\n",
    "- can you train classification problem with MSE loss? Why this may not be a good idea?\n",
    "- \"dead ReLU\" problem - provide example when it may happen\n",
    "\n",
    "At home\n",
    "- backward for many other layers (Conv, Pool, BatchNorm, Dropout, etc)"
   ]
  },
  {
   "cell_type": "code",
   "execution_count": null,
   "metadata": {},
   "outputs": [],
   "source": []
  }
 ],
 "metadata": {
  "kernelspec": {
   "display_name": "Python 3",
   "language": "python",
   "name": "python3"
  },
  "language_info": {
   "codemirror_mode": {
    "name": "ipython",
    "version": 3
   },
   "file_extension": ".py",
   "mimetype": "text/x-python",
   "name": "python",
   "nbconvert_exporter": "python",
   "pygments_lexer": "ipython3",
   "version": "3.6.9"
  }
 },
 "nbformat": 4,
 "nbformat_minor": 2
}
